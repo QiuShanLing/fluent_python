{
 "cells": [
  {
   "cell_type": "code",
   "execution_count": null,
   "metadata": {},
   "outputs": [],
   "source": [
    "from math import hypot\n",
    "\n",
    "class Vector:\n",
    "\n",
    "    def __init__(self, x=0, y=0) -> None:\n",
    "        self.x = x\n",
    "        self.y = y\n",
    "    \n",
    "    def __repr__(self) -> str:\n",
    "        return f\"Vector({self.x!r}, {self.y!r})\"\n",
    "    # 字符串格式化时使用 !r 是一种特殊的方式，用于调用对象的 __repr__ 方法，\n",
    "    # 而不是 __str__ 方法。\n",
    "    \n",
    "    def __abs__(self):\n",
    "        return hypot(self.x, self.y)\n",
    "    \n",
    "    def __bool__(self):\n",
    "        return bool(abs(self))\n",
    "    \n",
    "    def __add__(self, other):\n",
    "        x = self.x + other.x\n",
    "        y = self.y + other.y\n",
    "        return Vector(x, y)\n",
    "    \n",
    "    def __mul__(self, scalar):\n",
    "        return Vector(self.x * scalar, self.y * scalar)\n",
    "    "
   ]
  },
  {
   "cell_type": "code",
   "execution_count": null,
   "metadata": {},
   "outputs": [],
   "source": [
    "# !r和!s的区别\n",
    "#__str__ 方法通常用于提供对象的可读字符串表示，适合最终用户阅读。\n",
    "#__repr__ 方法通常用于提供对象的“官方”字符串表示，适合开发人员阅读，\n",
    "# 通常可以用于重新创建对象。\n",
    "\n",
    "value = \"Hello\\nWorld\"\n",
    "\n",
    "print(f\"Using %s: {value!s}\")\n",
    "print(f\"Using %s: {value!r}\")\n",
    "\n",
    "# 除了利用f-string输出字符串外，在用格式化字符串输出时，%s与%r也存在一样的区别\n",
    "print(\"Using %%s: %s\" % value)\n",
    "print(\"Using %%r: %r\" % value)\n"
   ]
  },
  {
   "cell_type": "code",
   "execution_count": null,
   "metadata": {},
   "outputs": [],
   "source": [
    "v1 = Vector(1, 3)\n",
    "v1"
   ]
  },
  {
   "cell_type": "code",
   "execution_count": null,
   "metadata": {},
   "outputs": [],
   "source": [
    "v2 = Vector(3,4)\n",
    "abs(v2)"
   ]
  },
  {
   "cell_type": "code",
   "execution_count": null,
   "metadata": {},
   "outputs": [],
   "source": [
    "v3 = v1 + v2\n",
    "v3"
   ]
  },
  {
   "cell_type": "code",
   "execution_count": null,
   "metadata": {},
   "outputs": [],
   "source": [
    "v3 * 2"
   ]
  },
  {
   "cell_type": "code",
   "execution_count": null,
   "metadata": {},
   "outputs": [],
   "source": []
  }
 ],
 "metadata": {
  "kernelspec": {
   "display_name": "python39",
   "language": "python",
   "name": "python3"
  },
  "language_info": {
   "codemirror_mode": {
    "name": "ipython",
    "version": 3
   },
   "file_extension": ".py",
   "mimetype": "text/x-python",
   "name": "python",
   "nbconvert_exporter": "python",
   "pygments_lexer": "ipython3",
   "version": "3.9.19"
  }
 },
 "nbformat": 4,
 "nbformat_minor": 2
}
