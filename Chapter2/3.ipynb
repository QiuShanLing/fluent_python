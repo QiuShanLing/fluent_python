{
 "cells": [
  {
   "cell_type": "markdown",
   "metadata": {},
   "source": [
    "#### 列表推导和生成器表达式"
   ]
  },
  {
   "cell_type": "code",
   "execution_count": null,
   "metadata": {},
   "outputs": [],
   "source": [
    "symbols = '$¢£¥€¤'\n",
    "codes = [ord(symbol) for symbol in symbols]\n",
    "print(codes)"
   ]
  },
  {
   "cell_type": "markdown",
   "metadata": {},
   "source": [
    "##### 列表推导中还可以加条件"
   ]
  },
  {
   "cell_type": "code",
   "execution_count": null,
   "metadata": {},
   "outputs": [],
   "source": [
    "symbols = '$¢£¥€¤'\n",
    "codes = [ord(symbol) for symbol in symbols if ord(symbol) > 127]\n",
    "print(codes)"
   ]
  },
  {
   "cell_type": "markdown",
   "metadata": {},
   "source": [
    "##### 用map和filter组合来创建同样的表单"
   ]
  },
  {
   "cell_type": "code",
   "execution_count": null,
   "metadata": {},
   "outputs": [],
   "source": [
    "symbols = '$¢£¥€¤'\n",
    "codes = list(filter(lambda c: c > 127, map(ord, symbols)))\n",
    "# 看不懂 什么玩意\n",
    "print(codes)"
   ]
  },
  {
   "cell_type": "markdown",
   "metadata": {},
   "source": [
    "##### 笛卡尔积"
   ]
  },
  {
   "cell_type": "code",
   "execution_count": null,
   "metadata": {},
   "outputs": [],
   "source": [
    "colors = ['black', 'white']\n",
    "sizes  = ['S', 'M', 'L']\n",
    "# 这里的列表推导相当于两个嵌套的for循环，“color”循环在外\n",
    "tshirts = [(color, size) for color in colors for size in sizes]\n",
    "print(type(tshirts))\n",
    "print(type(tshirts[0]))\n",
    "print(tshirts)"
   ]
  },
  {
   "cell_type": "code",
   "execution_count": null,
   "metadata": {},
   "outputs": [],
   "source": [
    "# 调换for循环顺序\n",
    "tshirts = [(color, size) for size in sizes for color in colors ]\n",
    "\n",
    "print(tshirts)"
   ]
  },
  {
   "cell_type": "markdown",
   "metadata": {},
   "source": [
    "##### 生成器表达式"
   ]
  },
  {
   "cell_type": "code",
   "execution_count": null,
   "metadata": {},
   "outputs": [],
   "source": [
    "# 生成器表达式的语法和列表推导差不多，只是把方括号换成圆括号而已\n",
    "\n",
    "symbols = '$¢£¥€¤'\n",
    "creator = tuple(ord(symbol) for symbol in symbols)\n",
    "print(type(creator))\n",
    "print(creator)"
   ]
  },
  {
   "cell_type": "code",
   "execution_count": null,
   "metadata": {},
   "outputs": [],
   "source": [
    "import array\n",
    "\n",
    "symbols = '$¢£¥€¤'\n",
    "array.array('I', (ord(symbol) for symbol in symbols))"
   ]
  },
  {
   "cell_type": "code",
   "execution_count": null,
   "metadata": {},
   "outputs": [],
   "source": [
    "# 使用生成器表达式计算笛卡尔积\n",
    "color = ['black', 'white']\n",
    "sizes = ['S', 'M', 'L']\n",
    "for tshirt in ('%s %s' % (c, s) for c in colors for s in sizes):\n",
    "    print(tshirt)\n",
    "\n",
    "# 生成器表达式逐个产出元素，从来不会一次性产出一个含有6个tshirt样式的列表"
   ]
  },
  {
   "cell_type": "code",
   "execution_count": null,
   "metadata": {},
   "outputs": [],
   "source": [
    "# 这种方式也可以，上面使用的格式化操作符，这里用的f-string\n",
    "color = ['black', 'white']\n",
    "sizes = ['S', 'M', 'L']\n",
    "for tshirt in (f'{c} {s}' for c in colors for s in sizes):\n",
    "    print(tshirt)"
   ]
  },
  {
   "cell_type": "markdown",
   "metadata": {},
   "source": [
    "##### 元组用作记录"
   ]
  },
  {
   "cell_type": "code",
   "execution_count": null,
   "metadata": {},
   "outputs": [],
   "source": [
    "lax_coordinates = (44.0, -119)\n",
    "city, year, pop, chg, area = ('Kyoto', 2002, 114514, 1919, 810)\n",
    "\n",
    "traveler_ids = [('USA', '31195855'), ('BRA', 'CE342567'), ('ESP', 'XDA205856')]\n",
    "for passport in sorted(traveler_ids):\n",
    "    print(f\"{passport[0]}/{passport[1]}\")\n",
    "print(' ')\n",
    "for passport in sorted(traveler_ids):\n",
    "    print(\"%s/%s\" % passport)\n",
    "\n",
    "print(' ')\n",
    "\n",
    "for country, _ in traveler_ids: \n",
    "    print(country)"
   ]
  },
  {
   "cell_type": "markdown",
   "metadata": {},
   "source": [
    "##### 元组拆包"
   ]
  },
  {
   "cell_type": "code",
   "execution_count": null,
   "metadata": {},
   "outputs": [],
   "source": [
    "lax_coordinates = (33.9425, -118.408056)\n",
    "latitude, longitude = lax_coordinates # 元组拆包\n",
    "\n",
    "print(latitude)\n",
    "longitude"
   ]
  },
  {
   "cell_type": "code",
   "execution_count": null,
   "metadata": {},
   "outputs": [],
   "source": [
    "a = 1\n",
    "b = 2\n",
    "print(f\"a = {a}\")\n",
    "print(f\"b = {b}\")\n",
    "\n",
    "b, a = a, b\n",
    "print(f\"a = {a}\")\n",
    "print(f\"b = {b}\")\n",
    "# 这也是拆包"
   ]
  },
  {
   "cell_type": "code",
   "execution_count": null,
   "metadata": {},
   "outputs": [],
   "source": [
    "print(divmod(20, 8))\n",
    "t = (20, 8)\n",
    "print(divmod(*t))\n",
    "quotient, remainder = divmod(*t)\n",
    "quotient, remainder\n",
    "# 用*号拆包"
   ]
  },
  {
   "cell_type": "code",
   "execution_count": null,
   "metadata": {},
   "outputs": [],
   "source": [
    "import os\n",
    "_, filename = os.path.split('/home/luciano/.ssh/idrsa.pub')\n",
    "filename\n",
    "# 函数以元组的形式返回多个值，调用函数时可以用解包的方式接受返回值"
   ]
  },
  {
   "cell_type": "code",
   "execution_count": null,
   "metadata": {},
   "outputs": [],
   "source": [
    "# 平行赋值\n",
    "a, b, *rest = range(5)\n",
    "print(f\"a={a}, b={b}, rest={rest}\")\n",
    "\n",
    "a, b, *rest = range(3)\n",
    "print(f\"a={a}, b={b}, rest={rest}\")\n",
    "\n",
    "a, b, *rest = range(2)\n",
    "print(f\"a={a}, b={b}, rest={rest}\")\n",
    "# 用*来处理剩下的元素"
   ]
  },
  {
   "cell_type": "code",
   "execution_count": null,
   "metadata": {},
   "outputs": [],
   "source": [
    "# 在平行赋值中，*前缀只能用在一个变量名前面，但是这个变量可以出现在赋值表达式的任意位置\n",
    "a, *body, c, d = range(5)\n",
    "print(f\"a={a}, body={body}, c={c}, d={d}\")\n",
    "\n",
    "*head, b, c, d = range(5)\n",
    "print(f\"head={head}, b={b}, c={c}, d={d}\")\n",
    "\n",
    "*head, b, c, d = range(4)\n",
    "print(f\"head={head}, b={b}, c={c}, d={d}\")\n",
    "\n",
    "# *解包符号在 Python 中用于捕获多余的元素，但如果没有多余元素可捕获，结果将是一个空列表 []\n",
    "*head, b, c, d = range(3)\n",
    "print(f\"heada={head}, b={b}, c={c}, d={d}\")"
   ]
  },
  {
   "cell_type": "code",
   "execution_count": 1,
   "metadata": {},
   "outputs": [
    {
     "name": "stdout",
     "output_type": "stream",
     "text": [
      "                |   lat.    |   long.  \n",
      "Mexico City     |   19.4333 |  -99.1333\n",
      "New York-Newark |   40.8086 |  -74.0204\n",
      "Sao Paulo       |  -23.5478 |  -46.6358\n"
     ]
    }
   ],
   "source": [
    "# 嵌套元组拆包\n",
    "metro_areas = [\n",
    "('Tokyo','JP',36.933,(35.689722,139.691667)), # ➊\n",
    "('Delhi NCR', 'IN', 21.935, (28.613889, 77.208889)),\n",
    "('Mexico City', 'MX', 20.142, (19.433333, -99.133333)),\n",
    "('New York-Newark', 'US', 20.104, (40.808611, -74.020386)),\n",
    "('Sao Paulo', 'BR', 19.649, (-23.547778, -46.635833)),\n",
    "]\n",
    "# 格式化输出\n",
    "print('{:15} | {:^9} | {:^9}'.format('', 'lat.', 'long.'))\n",
    "fmt = '{:15} | {:9.4f} | {:9.4f}'\n",
    "for name, cc, pop, (latitude, longitude) in metro_areas: # ➋\n",
    "    if longitude <= 0: # ➌\n",
    "        print(fmt.format(name, latitude, longitude))"
   ]
  },
  {
   "cell_type": "markdown",
   "metadata": {},
   "source": [
    "##### str.format()方法"
   ]
  },
  {
   "cell_type": "code",
   "execution_count": 14,
   "metadata": {},
   "outputs": [
    {
     "name": "stdout",
     "output_type": "stream",
     "text": [
      "{:15}\n",
      "2.3333330000   \n",
      "   2.3333330000\n",
      " 2.3333330000  \n",
      "Name: Alice, Age: 30\n"
     ]
    }
   ],
   "source": [
    "# 格式化输出\n",
    "# 双大括号在使用 str.format() 的时候表示一个字面意义上的大括号\n",
    "print('{{:15}}'.format())\n",
    "print('{:<15.10f}'.format(2.333333)) # 左对齐 宽度15 小数点后10位\n",
    "print('{:>15.10f}'.format(2.333333)) # 右对齐（默认） 宽度15 小数点后10位\n",
    "print('{:^15.10f}'.format(2.333333)) # 居中 宽度15 小数点后10位\n",
    "\n",
    "# 在这里，大括号 {} 只是占位符，按顺序插入 format() 方法中的参数。\n",
    "name = \"Alice\"\n",
    "age = 30\n",
    "\n",
    "# 没有冒号的情况\n",
    "print('Name: {}, Age: {}'.format(name, age))\n"
   ]
  },
  {
   "cell_type": "code",
   "execution_count": null,
   "metadata": {},
   "outputs": [],
   "source": []
  }
 ],
 "metadata": {
  "kernelspec": {
   "display_name": "python39",
   "language": "python",
   "name": "python3"
  },
  "language_info": {
   "codemirror_mode": {
    "name": "ipython",
    "version": 3
   },
   "file_extension": ".py",
   "mimetype": "text/x-python",
   "name": "python",
   "nbconvert_exporter": "python",
   "pygments_lexer": "ipython3",
   "version": "3.9.19"
  }
 },
 "nbformat": 4,
 "nbformat_minor": 2
}
