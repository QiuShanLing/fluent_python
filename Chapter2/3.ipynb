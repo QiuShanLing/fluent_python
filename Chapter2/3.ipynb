{
 "cells": [
  {
   "cell_type": "markdown",
   "metadata": {},
   "source": [
    "#### 列表推导和生成器表达式"
   ]
  },
  {
   "cell_type": "code",
   "execution_count": null,
   "metadata": {},
   "outputs": [],
   "source": [
    "symbols = '$¢£¥€¤'\n",
    "codes = [ord(symbol) for symbol in symbols]\n",
    "print(codes)"
   ]
  },
  {
   "cell_type": "markdown",
   "metadata": {},
   "source": [
    "##### 列表推导中还可以加条件"
   ]
  },
  {
   "cell_type": "code",
   "execution_count": null,
   "metadata": {},
   "outputs": [],
   "source": [
    "symbols = '$¢£¥€¤'\n",
    "codes = [ord(symbol) for symbol in symbols if ord(symbol) > 127]\n",
    "print(codes)"
   ]
  },
  {
   "cell_type": "markdown",
   "metadata": {},
   "source": [
    "##### 用map和filter组合来创建同样的表单"
   ]
  },
  {
   "cell_type": "code",
   "execution_count": null,
   "metadata": {},
   "outputs": [],
   "source": [
    "symbols = '$¢£¥€¤'\n",
    "codes = list(filter(lambda c: c > 127, map(ord, symbols)))\n",
    "# 看不懂 什么玩意\n",
    "print(codes)"
   ]
  },
  {
   "cell_type": "markdown",
   "metadata": {},
   "source": [
    "##### 笛卡尔积"
   ]
  },
  {
   "cell_type": "code",
   "execution_count": null,
   "metadata": {},
   "outputs": [],
   "source": [
    "colors = ['black', 'white']\n",
    "sizes  = ['S', 'M', 'L']\n",
    "# 这里的列表推导相当于两个嵌套的for循环，“color”循环在外\n",
    "tshirts = [(color, size) for color in colors for size in sizes]\n",
    "print(type(tshirts))\n",
    "print(type(tshirts[0]))\n",
    "print(tshirts)"
   ]
  },
  {
   "cell_type": "code",
   "execution_count": null,
   "metadata": {},
   "outputs": [],
   "source": [
    "# 调换for循环顺序\n",
    "tshirts = [(color, size) for size in sizes for color in colors ]\n",
    "\n",
    "print(tshirts)"
   ]
  },
  {
   "cell_type": "markdown",
   "metadata": {},
   "source": [
    "##### 生成器表达式"
   ]
  },
  {
   "cell_type": "code",
   "execution_count": null,
   "metadata": {},
   "outputs": [],
   "source": [
    "# 生成器表达式的语法和列表推导差不多，只是把方括号换成圆括号而已\n",
    "\n",
    "symbols = '$¢£¥€¤'\n",
    "creator = tuple(ord(symbol) for symbol in symbols)\n",
    "print(type(creator))\n",
    "print(creator)"
   ]
  },
  {
   "cell_type": "code",
   "execution_count": null,
   "metadata": {},
   "outputs": [],
   "source": [
    "import array\n",
    "\n",
    "symbols = '$¢£¥€¤'\n",
    "array.array('I', (ord(symbol) for symbol in symbols))"
   ]
  },
  {
   "cell_type": "code",
   "execution_count": null,
   "metadata": {},
   "outputs": [],
   "source": [
    "# 使用生成器表达式计算笛卡尔积\n",
    "color = ['black', 'white']\n",
    "sizes = ['S', 'M', 'L']\n",
    "for tshirt in ('%s %s' % (c, s) for c in colors for s in sizes):\n",
    "    print(tshirt)\n",
    "\n",
    "# 生成器表达式逐个产出元素，从来不会一次性产出一个含有6个tshirt样式的列表"
   ]
  },
  {
   "cell_type": "code",
   "execution_count": null,
   "metadata": {},
   "outputs": [],
   "source": [
    "# 这种方式也可以，上面使用的格式化操作符，这里用的f-string\n",
    "color = ['black', 'white']\n",
    "sizes = ['S', 'M', 'L']\n",
    "for tshirt in (f'{c} {s}' for c in colors for s in sizes):\n",
    "    print(tshirt)"
   ]
  },
  {
   "cell_type": "markdown",
   "metadata": {},
   "source": [
    "##### 元组用作记录"
   ]
  },
  {
   "cell_type": "code",
   "execution_count": null,
   "metadata": {},
   "outputs": [],
   "source": [
    "lax_coordinates = (44.0, -119)\n",
    "city, year, pop, chg, area = ('Kyoto', 2002, 114514, 1919, 810)\n",
    "\n",
    "traveler_ids = [('USA', '31195855'), ('BRA', 'CE342567'), ('ESP', 'XDA205856')]\n",
    "for passport in sorted(traveler_ids):\n",
    "    print(f\"{passport[0]}/{passport[1]}\")\n",
    "print(' ')\n",
    "for passport in sorted(traveler_ids):\n",
    "    print(\"%s/%s\" % passport)\n",
    "\n",
    "print(' ')\n",
    "\n",
    "for country, _ in traveler_ids: \n",
    "    print(country)"
   ]
  },
  {
   "cell_type": "markdown",
   "metadata": {},
   "source": [
    "##### 元组拆包"
   ]
  },
  {
   "cell_type": "code",
   "execution_count": null,
   "metadata": {},
   "outputs": [],
   "source": [
    "lax_coordinates = (33.9425, -118.408056)\n",
    "latitude, longitude = lax_coordinates # 元组拆包\n",
    "\n",
    "print(latitude)\n",
    "longitude"
   ]
  },
  {
   "cell_type": "code",
   "execution_count": null,
   "metadata": {},
   "outputs": [],
   "source": [
    "a = 1\n",
    "b = 2\n",
    "print(f\"a = {a}\")\n",
    "print(f\"b = {b}\")\n",
    "\n",
    "b, a = a, b\n",
    "print(f\"a = {a}\")\n",
    "print(f\"b = {b}\")\n",
    "# 这也是拆包"
   ]
  },
  {
   "cell_type": "code",
   "execution_count": null,
   "metadata": {},
   "outputs": [],
   "source": [
    "print(divmod(20, 8))\n",
    "t = (20, 8)\n",
    "print(divmod(*t))\n",
    "quotient, remainder = divmod(*t)\n",
    "quotient, remainder\n",
    "# 用*号拆包"
   ]
  },
  {
   "cell_type": "code",
   "execution_count": null,
   "metadata": {},
   "outputs": [],
   "source": [
    "import os\n",
    "_, filename = os.path.split('/home/luciano/.ssh/idrsa.pub')\n",
    "filename\n",
    "# 函数以元组的形式返回多个值，调用函数时可以用解包的方式接受返回值"
   ]
  },
  {
   "cell_type": "code",
   "execution_count": null,
   "metadata": {},
   "outputs": [],
   "source": [
    "# 平行赋值\n",
    "a, b, *rest = range(5)\n",
    "print(f\"a={a}, b={b}, rest={rest}\")\n",
    "\n",
    "a, b, *rest = range(3)\n",
    "print(f\"a={a}, b={b}, rest={rest}\")\n",
    "\n",
    "a, b, *rest = range(2)\n",
    "print(f\"a={a}, b={b}, rest={rest}\")\n",
    "# 用*来处理剩下的元素"
   ]
  },
  {
   "cell_type": "code",
   "execution_count": null,
   "metadata": {},
   "outputs": [],
   "source": [
    "# 在平行赋值中，*前缀只能用在一个变量名前面，但是这个变量可以出现在赋值表达式的任意位置\n",
    "a, *body, c, d = range(5)\n",
    "print(f\"a={a}, body={body}, c={c}, d={d}\")\n",
    "\n",
    "*head, b, c, d = range(5)\n",
    "print(f\"head={head}, b={b}, c={c}, d={d}\")\n",
    "\n",
    "*head, b, c, d = range(4)\n",
    "print(f\"head={head}, b={b}, c={c}, d={d}\")\n",
    "\n",
    "# *解包符号在 Python 中用于捕获多余的元素，但如果没有多余元素可捕获，结果将是一个空列表 []\n",
    "*head, b, c, d = range(3)\n",
    "print(f\"heada={head}, b={b}, c={c}, d={d}\")"
   ]
  },
  {
   "cell_type": "code",
   "execution_count": null,
   "metadata": {},
   "outputs": [],
   "source": [
    "# 嵌套元组拆包\n",
    "metro_areas = [\n",
    "('Tokyo','JP',36.933,(35.689722,139.691667)), # ➊\n",
    "('Delhi NCR', 'IN', 21.935, (28.613889, 77.208889)),\n",
    "('Mexico City', 'MX', 20.142, (19.433333, -99.133333)),\n",
    "('New York-Newark', 'US', 20.104, (40.808611, -74.020386)),\n",
    "('Sao Paulo', 'BR', 19.649, (-23.547778, -46.635833)),\n",
    "]\n",
    "# 格式化输出\n",
    "print('{:15} | {:^9} | {:^9}'.format('', 'lat.', 'long.'))\n",
    "fmt = '{:15} | {:9.4f} | {:9.4f}'\n",
    "for name, cc, pop, (latitude, longitude) in metro_areas: # ➋\n",
    "    if longitude <= 0: # ➌\n",
    "        print(fmt.format(name, latitude, longitude))"
   ]
  },
  {
   "cell_type": "markdown",
   "metadata": {},
   "source": [
    "##### str.format()方法"
   ]
  },
  {
   "cell_type": "code",
   "execution_count": null,
   "metadata": {},
   "outputs": [],
   "source": [
    "# 格式化输出\n",
    "# 双大括号在使用 str.format() 的时候表示一个字面意义上的大括号\n",
    "print('{{:15}}'.format())\n",
    "print('{:<15.10f}'.format(2.333333)) # 左对齐 宽度15 小数点后10位\n",
    "print('{:>15.10f}'.format(2.333333)) # 右对齐（默认） 宽度15 小数点后10位\n",
    "print('{:^15.10f}'.format(2.333333)) # 居中 宽度15 小数点后10位\n",
    "\n",
    "# 在这里，大括号 {} 只是占位符，按顺序插入 format() 方法中的参数。\n",
    "name = \"Alice\"\n",
    "age = 30\n",
    "\n",
    "# 没有冒号的情况\n",
    "print('Name: {}, Age: {}'.format(name, age))\n"
   ]
  },
  {
   "cell_type": "markdown",
   "metadata": {},
   "source": [
    "##### 具名元组"
   ]
  },
  {
   "cell_type": "code",
   "execution_count": null,
   "metadata": {},
   "outputs": [],
   "source": [
    "# namedtuple是一个工厂函数，用它可以构建一个带字段名的元组和一个有名字的类\n",
    "# namedtuple构建的类的实例所消耗的内存和元组一样，因为字段名都\n",
    "# 被存在对应的类里面。这个实例跟普通的对象实例比起来也要小一些，因为\n",
    "# Python 不会用__dict__ 来存放这些实例的属性。\n",
    "from collections import namedtuple\n",
    "# 创建具名元组需要两个参数，一个是类名，另一个是类的各个字段的名字。后者可以是\n",
    "# 由数个字符串组成的可迭代对象或者是由空格分隔开的字段名称组成的字符串\n",
    "# 两种输入参数都可以\n",
    "City = namedtuple('City', 'name country population coordinates')\n",
    "City = namedtuple('City', ['name', 'country', 'population', 'coordinates'])\n",
    "tokyo = City('Tokyo', 'JP', '114514', (191,981.0))\n",
    "print(tokyo)\n",
    "print(type(tokyo))\n",
    "print(tokyo.population)\n",
    "print(tokyo.coordinates)"
   ]
  },
  {
   "cell_type": "code",
   "execution_count": null,
   "metadata": {},
   "outputs": [],
   "source": [
    "# 具名元组的属性和方法\n",
    "City._fields"
   ]
  },
  {
   "cell_type": "code",
   "execution_count": null,
   "metadata": {},
   "outputs": [],
   "source": [
    "LatLong = namedtuple('LatLong', 'lat long')  # 经纬度类\n",
    "delhi_data = ('Delhi NCR', 'IN', 21.935, LatLong(28.613889, 77.208889))\n",
    "delhi = City._make(delhi_data)\n",
    "delhi._asdict() # 将具名元组的实例以collections.OrderedDict的形式返回\n"
   ]
  },
  {
   "cell_type": "code",
   "execution_count": null,
   "metadata": {},
   "outputs": [],
   "source": [
    "a = 'abc'\n",
    "SKU = slice(1,2)\n",
    "SKU"
   ]
  },
  {
   "cell_type": "code",
   "execution_count": null,
   "metadata": {},
   "outputs": [],
   "source": [
    "invoice = \"\"\"\n",
    "0.....6................................40........52...55........ \n",
    "1909   Pimoroni PiBrella                  $17.50    3      $52.50\n",
    "1489   6mm Tactile Switch x20              $4.95    2       $9.90\n",
    "1510   Panavise Jr. - PV-201              $28.00    1      $28.00\n",
    "1601   PiTFT Mini Kit 320x240             $34.95    1      $34.95\n",
    "\"\"\"\n",
    "# slice(a,b,c)会返回一个切片对象\n",
    "SKU = slice(0, 6)\n",
    "DESCRIPTION = slice(6, 40)\n",
    "UNIT_PRICE = slice(40, 52)\n",
    "QUANTITY = slice(52, 55)\n",
    "ITEM_TOTAL = slice(55, None)\n",
    "line_items = invoice.split('\\n')[2:]\n",
    "print(line_items)\n",
    "for item in line_items:\n",
    "    print(item[UNIT_PRICE], item[DESCRIPTION])"
   ]
  },
  {
   "cell_type": "code",
   "execution_count": null,
   "metadata": {},
   "outputs": [],
   "source": [
    "# 给切片赋值\n",
    "l = list(range(10))\n",
    "print(type(range(10)))\n",
    "print(l)\n",
    "\n",
    "l[2:5] = [20, 30]\n",
    "print(l)\n",
    "del l[5:7]\n",
    "print(l)"
   ]
  },
  {
   "cell_type": "markdown",
   "metadata": {},
   "source": [
    "##### 由列表组成的列表"
   ]
  },
  {
   "cell_type": "code",
   "execution_count": null,
   "metadata": {},
   "outputs": [],
   "source": [
    "board = [['_'] * 3 for _ in range(3)]\n",
    "# 循环会执行三次，每次都会创建一个['_', '_', '_']\n",
    "print(board)\n",
    "\n",
    "board[1][2] = 'X'\n",
    "print(board)\n",
    "\n",
    "# 上面的代码等价于\n",
    "board = []\n",
    "for i in range(3):\n",
    "    row = ['_'] * 3\n",
    "    board.append(row)\n",
    "print(board)\n",
    "board[1][2] = 'X'\n",
    "print(board)"
   ]
  },
  {
   "cell_type": "code",
   "execution_count": null,
   "metadata": {},
   "outputs": [],
   "source": [
    "# 这种生成方法是有问题的\n",
    "board = [['_'] * 3] * 3\n",
    "print(board)\n",
    "\n",
    "board[1][2] = 'X'\n",
    "print(board)\n",
    "# 这种方法等价于\n",
    "row=['_'] * 3\n",
    "board = []\n",
    "for i in range(3):\n",
    "    board.append(row)\n",
    "print(board)\n",
    "\n",
    "board[1][2] = 'X'\n",
    "print(board)"
   ]
  },
  {
   "cell_type": "code",
   "execution_count": null,
   "metadata": {},
   "outputs": [],
   "source": [
    "board = ['_'] * 3\n",
    "print(board)\n",
    "board[0] = 'X'\n",
    "print(board)"
   ]
  },
  {
   "cell_type": "markdown",
   "metadata": {},
   "source": [
    "##### 增量运算符作用在可变序列和不可变序列上的作用"
   ]
  },
  {
   "cell_type": "code",
   "execution_count": null,
   "metadata": {},
   "outputs": [],
   "source": [
    "l = [1,2,3]\n",
    "print(id(l))\n",
    "l *= 2\n",
    "print(l)\n",
    "print(id(l))"
   ]
  },
  {
   "cell_type": "code",
   "execution_count": null,
   "metadata": {},
   "outputs": [],
   "source": [
    "# 对不可变序列进行重复拼接操作的话，效率会很低，因为每次都有一个新对象，而解释器\n",
    "# 需要把原来对象中的元素先复制到新的对象里，然后再追加新的元素。4\n",
    "t = (1,2,3)\n",
    "print(id(t))\n",
    "t *= 2\n",
    "print(t)\n",
    "print(id(t))"
   ]
  },
  {
   "cell_type": "markdown",
   "metadata": {},
   "source": [
    "##### 排序 list.sort 和 sorted"
   ]
  },
  {
   "cell_type": "code",
   "execution_count": null,
   "metadata": {},
   "outputs": [],
   "source": [
    "# 两者都有两个可选的关键字参数 reverse 和 key\n",
    "fruits = ['grape', 'raspberry', 'apple', 'banana']\n",
    "print(sorted(fruits))  # 从小到大\n",
    "print(sorted(fruits, reverse=True))  # 从大到小\n",
    "print(sorted(fruits, key=len))  # 按照长度从小到大\n",
    "print(sorted(fruits, key=str.lower))  # 忽略大小写排序\n",
    "\n",
    "# list.sort会就地对list排序，因此返回值为None\n",
    "print(fruits.sort(reverse=True))\n",
    "print(fruits)"
   ]
  },
  {
   "cell_type": "code",
   "execution_count": 10,
   "metadata": {},
   "outputs": [
    {
     "name": "stdout",
     "output_type": "stream",
     "text": [
      "DEMO:  bisect_right\n",
      "haystack ->   1  4  5  6  8 12 15 20 21 23 23 26 29 30\n",
      "31 @ 14        |  |  |  |  |  |  |  |  |  |  |  |  |  |31\n",
      "30 @ 14        |  |  |  |  |  |  |  |  |  |  |  |  |  |30\n",
      "29 @ 13        |  |  |  |  |  |  |  |  |  |  |  |  |29\n",
      "23 @ 11        |  |  |  |  |  |  |  |  |  |  |23\n",
      "22 @  9        |  |  |  |  |  |  |  |  |22\n",
      "10 @  5        |  |  |  |  |10\n",
      " 8 @  5        |  |  |  |  |8 \n",
      " 5 @  3        |  |  |5 \n",
      " 2 @  1        |2 \n",
      " 1 @  1        |1 \n",
      " 0 @  0      0 \n"
     ]
    }
   ],
   "source": [
    "# 用bisect来搜索\n",
    "import bisect\n",
    "import sys\n",
    "\n",
    "HAYSTACK = [1, 4, 5, 6, 8, 12, 15, 20, 21, 23, 23, 26, 29, 30]\n",
    "NEEDLES = [0, 1, 2, 5, 8, 10, 22, 23, 29, 30, 31]\n",
    "ROW_FMT = '{0:2d} @ {1:2d}      {2}{0:<2d}'\n",
    "\n",
    "def demo(bisect_fn):\n",
    "    for needle in reversed(NEEDLES):\n",
    "        position = bisect_fn(HAYSTACK, needle)  # 利用特定的bisect函数来计算元素应该出现的位置\n",
    "        offect = position * '  |'  # 利用该位置来算出需要几个分隔符号\n",
    "        print(ROW_FMT.format(needle, position, offect))  # 把元素和其应该出现的位置打印出来\n",
    "\n",
    "if sys.argv[-1] == 'left':  # 根据命令上最后一个参数来选用bisect函数\n",
    "    bisect_fn = bisect.bisect_left\n",
    "else:\n",
    "    bisect_fn = bisect.bisect\n",
    "\n",
    "print(\"DEMO: \", bisect_fn.__name__)  # 选定的函数的抬头打印出来\n",
    "print('haystack -> ', ' '.join('%2d' % n for n in HAYSTACK))\n",
    "demo(bisect_fn)"
   ]
  },
  {
   "cell_type": "code",
   "execution_count": 11,
   "metadata": {},
   "outputs": [
    {
     "data": {
      "text/plain": [
       "['F', 'F', 'F', 'D', 'C', 'B', 'A']"
      ]
     },
     "execution_count": 11,
     "metadata": {},
     "output_type": "execute_result"
    }
   ],
   "source": [
    "# 根据一个分数，找到它所对应的成绩\n",
    "\n",
    "def grade(score, breakpoints=[60,70,80,90], grades='FDCBA'):\n",
    "    i = bisect.bisect(breakpoints, score)\n",
    "    return grades[i]\n",
    "\n",
    "[grade(score) for score in [33, 24, 50, 60, 75, 80, 100]]\n"
   ]
  },
  {
   "cell_type": "code",
   "execution_count": 14,
   "metadata": {},
   "outputs": [
    {
     "name": "stdout",
     "output_type": "stream",
     "text": [
      "10 -> [10]\n",
      " 0 -> [0, 10]\n",
      " 6 -> [0, 6, 10]\n",
      " 8 -> [0, 6, 8, 10]\n",
      " 7 -> [0, 6, 7, 8, 10]\n",
      " 2 -> [0, 2, 6, 7, 8, 10]\n",
      "10 -> [0, 2, 6, 7, 8, 10, 10]\n"
     ]
    }
   ],
   "source": [
    "# 用bisect.insort插入新元素\n",
    "\n",
    "import bisect\n",
    "import random\n",
    "\n",
    "SIZE = 7\n",
    "random.seed(1729)\n",
    "\n",
    "my_list = []\n",
    "for i in range(SIZE):\n",
    "    new_item = random.randrange(SIZE*2)\n",
    "    bisect.insort(my_list, new_item)\n",
    "    print('%2d ->' % new_item, my_list)"
   ]
  },
  {
   "cell_type": "code",
   "execution_count": null,
   "metadata": {},
   "outputs": [],
   "source": []
  }
 ],
 "metadata": {
  "kernelspec": {
   "display_name": "python39",
   "language": "python",
   "name": "python3"
  },
  "language_info": {
   "codemirror_mode": {
    "name": "ipython",
    "version": 3
   },
   "file_extension": ".py",
   "mimetype": "text/x-python",
   "name": "python",
   "nbconvert_exporter": "python",
   "pygments_lexer": "ipython3",
   "version": "3.9.19"
  }
 },
 "nbformat": 4,
 "nbformat_minor": 2
}
