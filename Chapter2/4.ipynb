{
 "cells": [
  {
   "cell_type": "markdown",
   "metadata": {},
   "source": [
    "##### 数组"
   ]
  },
  {
   "cell_type": "code",
   "execution_count": 8,
   "metadata": {},
   "outputs": [
    {
     "name": "stdout",
     "output_type": "stream",
     "text": [
      "0.4485887612163888\n"
     ]
    }
   ],
   "source": [
    "# 创建一个有1000万个随机浮点数的数组，并保存和读取\n",
    "from array import array\n",
    "from random import random\n",
    "\n",
    "floats = array('d', (random() for i in range(10**7)))  # 利用一个可迭代对象来建立一个双精度浮点数组(类型码是'd'),这里用的可迭代对象是一个生成器表达式\n",
    "print(floats[-1])\n",
    "\n",
    "fp = open('floats.bin', 'wb')\n",
    "floats.tofile(fp)\n",
    "fp.close()"
   ]
  },
  {
   "cell_type": "code",
   "execution_count": 3,
   "metadata": {},
   "outputs": [
    {
     "name": "stdout",
     "output_type": "stream",
     "text": [
      "0.18172426140557363\n",
      "True\n"
     ]
    }
   ],
   "source": [
    "floats2 = array('d')\n",
    "fp = open('floats.bin', 'rb')\n",
    "floats2.fromfile(fp, 10**7)\n",
    "fp.close()\n",
    "print(floats2[-1])\n",
    "print(floats==floats2)"
   ]
  },
  {
   "cell_type": "code",
   "execution_count": 14,
   "metadata": {},
   "outputs": [
    {
     "name": "stdout",
     "output_type": "stream",
     "text": [
      "5\n",
      "-2\n",
      "[254, 255, 255, 255, 0, 0, 1, 0, 2, 0]\n",
      "array('h', [-2, -1, 1024, 1, 2])\n"
     ]
    }
   ],
   "source": [
    "# 内存视图 memoryview\n",
    "from array import array\n",
    "\n",
    "numbers = array('h', [-2, -1, 0, 1, 2])\n",
    "memv = memoryview(numbers)\n",
    "print(len(memv))\n",
    "print(memv[0])\n",
    "\n",
    "memv_oct = memv.cast('B')  # 创建memv_oct，将memv中的内容转换为无符号字符型\n",
    "print(memv_oct.tolist())\n",
    "memv_oct[5]= 4\n",
    "print(numbers)\n",
    "\n",
    "# 原始数据：array.array('h', [-2, -1, 0, 1, 2]) 创建了一个 array，其中的元素是 16 位有符号整数 ('h' 类型码)。\n",
    "# 每个整数占用 2 字节（16 位），它们的内存表示是小端序（低字节在前，高字节在后）, 具体为：0XFFFE 0XFFFF 0X0000 0x0001 0x0002\n",
    "# memv_oct中将原先的'h'类型转换为'b'类型(8位无符号整数，占用一个字节), 实际上是以一个字节来解释原先的16位有符号整数，所以\n",
    "# memv_oct中为 0XFE 0XFF 0XFF 0XFF 0X00 0X00 0X01 0X00 0X02 0X00（小端序：低位在前高位在后）\n",
    "# 所以输出为[254, 255, 255, 255, 0, 0, 1, 0, 2, 0]\n",
    "# 然后将memv_oct[5]改为了十进制的4(0100)\n",
    "# memv_oct变成了 0XFE 0XFF 0XFF 0XFF 0X00 0X04 0X01 0X00 0X02 0X00\n",
    "# 所以最终输出的numbers中的第三个元素实际为十六进制的0X0400，也就是4*16**2=1024"
   ]
  },
  {
   "cell_type": "code",
   "execution_count": 22,
   "metadata": {},
   "outputs": [
    {
     "name": "stdout",
     "output_type": "stream",
     "text": [
      "deque([0, 1, 2, 3, 4, 5, 6, 7, 8, 9], maxlen=10)\n",
      "deque([8, 9, 0, 1, 2, 3, 4, 5, 6, 7], maxlen=10)\n",
      "deque([1, 2, 3, 4, 5, 6, 7, 8, 9, 0], maxlen=10)\n",
      "deque([-1, 1, 2, 3, 4, 5, 6, 7, 8, 9], maxlen=10)\n",
      "deque([3, 4, 5, 6, 7, 8, 9, 11, 22, 33], maxlen=10)\n",
      "deque([30, 20, 10, 3, 4, 5, 6, 7, 8, 9], maxlen=10)\n"
     ]
    }
   ],
   "source": [
    "# 双向队列 deque类\n",
    "from collections import deque\n",
    "dq = deque(range(10), maxlen=10)  # maxlen一经设置就无法修改了\n",
    "print(dq)\n",
    "dq.rotate(2) # rotate接收正数n，右边的n个数会移动到左边，负数n，左边的n个数会移动到右边\n",
    "print(dq)\n",
    "dq.rotate(-3)\n",
    "print(dq)\n",
    "dq.appendleft(-1)\n",
    "print(dq)\n",
    "dq.extend([11,22,33])\n",
    "print(dq)\n",
    "dq.extendleft([10,20,30])  # extendleftf(iter)会将迭代器内的元素逐个添加到双向队列左边，所以迭代器的元素会逆序出现在队列里\n",
    "print(dq)\n"
   ]
  },
  {
   "cell_type": "code",
   "execution_count": null,
   "metadata": {},
   "outputs": [],
   "source": []
  }
 ],
 "metadata": {
  "kernelspec": {
   "display_name": "python39",
   "language": "python",
   "name": "python3"
  },
  "language_info": {
   "codemirror_mode": {
    "name": "ipython",
    "version": 3
   },
   "file_extension": ".py",
   "mimetype": "text/x-python",
   "name": "python",
   "nbconvert_exporter": "python",
   "pygments_lexer": "ipython3",
   "version": "3.9.19"
  }
 },
 "nbformat": 4,
 "nbformat_minor": 2
}
