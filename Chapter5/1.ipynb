{
 "cells": [
  {
   "cell_type": "markdown",
   "metadata": {},
   "source": [
    "##### 一等函数"
   ]
  },
  {
   "cell_type": "code",
   "execution_count": null,
   "metadata": {},
   "outputs": [],
   "source": [
    "# 阶乘函数\n",
    "def factorial(n):\n",
    "    '''returns n!'''\n",
    "    return 1 if n < 2 else n * factorial(n-1)\n",
    "\n",
    "print(factorial.__doc__)\n",
    "# __doc__是函数对象的一个属性，用于生成对象的帮助文本\n",
    "print(type(factorial))\n",
    "\n",
    "# factorial 是function类的实例\n",
    "help(factorial)\n",
    "# help()函数也会调用__doc__属性"
   ]
  },
  {
   "cell_type": "code",
   "execution_count": null,
   "metadata": {},
   "outputs": [],
   "source": [
    "fact = factorial\n",
    "print(fact)\n",
    "\n",
    "fact(5)\n",
    "# 重命名后的factorial还是一个函数对象\n",
    "map(factorial, range(11))\n",
    "# map函数将第一个参数应用到第二个参数(一个可迭代对象),并返回一个可迭代对象\n",
    "print(list(map(factorial, range(11))))"
   ]
  },
  {
   "cell_type": "code",
   "execution_count": null,
   "metadata": {},
   "outputs": [],
   "source": [
    "'''有了一等函数，就可以使用函数式风格编程。函数式编程的特点之一是使用高阶函数——\n",
    "这是下一节的话题。'''"
   ]
  },
  {
   "cell_type": "code",
   "execution_count": null,
   "metadata": {},
   "outputs": [],
   "source": [
    "# 接收函数作为参数，或者把函数作为结果返回的函数是高阶函数(higher-order function),map函数就是一个例子\n",
    "\n",
    "# 根据单词长度排序\n",
    "fruits = ['strawberry', 'fig', 'apple', 'cherry', 'raspberry', 'banana']\n",
    "print(sorted(fruits, key=len))\n",
    "# key为关键字参数\n",
    "\n",
    "# 根据反向拼写给一个单词排序\n",
    "def reverse(word):\n",
    "    return word[::-1]\n",
    "# 切片[start:stop:step]中，当step为负数时，start默认为-1，stop默认为-len(obj)-1，即反向遍历整个对象\n",
    "\n",
    "print(reverse('hello'))\n",
    "\n",
    "print(sorted(fruits, key=reverse))"
   ]
  },
  {
   "cell_type": "markdown",
   "metadata": {},
   "source": [
    "##### 高阶函数map、filter、reduce的现代替代品"
   ]
  },
  {
   "cell_type": "code",
   "execution_count": null,
   "metadata": {},
   "outputs": [],
   "source": [
    "print(list(map(fact,range(6))))\n",
    "print([fact(n) for n in range(6)])\n",
    "\n",
    "print(list(map(factorial, filter(lambda n: n % 2,  range(6)))))\n",
    "print([factorial(n) for n in range(6) if n % 2])\n",
    "# 计算5以内的奇数的阶乘\n",
    "\n",
    "# 使用列表推导式执行与map一样的操作"
   ]
  },
  {
   "cell_type": "code",
   "execution_count": null,
   "metadata": {},
   "outputs": [],
   "source": [
    "from functools import reduce\n",
    "from operator import add\n",
    "reduce(add, range(100))"
   ]
  },
  {
   "cell_type": "code",
   "execution_count": null,
   "metadata": {},
   "outputs": [],
   "source": [
    "# 使用sum代替reduce\n",
    "sum(range(100))"
   ]
  },
  {
   "cell_type": "markdown",
   "metadata": {},
   "source": [
    "##### 匿名函数"
   ]
  },
  {
   "cell_type": "code",
   "execution_count": null,
   "metadata": {},
   "outputs": [],
   "source": [
    "fruits = ['strawberry', 'fig', 'apple', 'cherry', 'raspberry', 'banana']\n",
    "sorted(fruits, key=lambda word: word[::-1])\n",
    "# 省去定义reverse函数"
   ]
  },
  {
   "cell_type": "markdown",
   "metadata": {},
   "source": [
    "##### 可调用对象"
   ]
  },
  {
   "cell_type": "code",
   "execution_count": null,
   "metadata": {},
   "outputs": [],
   "source": [
    "'''\n",
    "调用运算符: ()\n",
    "除了用户定义的函数，调用运算符（即()）还可以应用到其他对象上。如果想判断对象能\n",
    "否调用，可以使用内置的callable() 函数。Python 数据模型文档列出了7 种可调用对象。\n",
    "1. 用户定义的函数\n",
    "2. 内置函数\n",
    "3. 内置方法\n",
    "4. 方法\n",
    "5. 类\n",
    "6. 类的实例\n",
    "7. 生成器函数\n",
    "'''"
   ]
  },
  {
   "cell_type": "code",
   "execution_count": null,
   "metadata": {},
   "outputs": [],
   "source": [
    "# 判断对象能否调用，最安全的方法是使用内置的callable()函数\n",
    "print(abs, str, 13)\n",
    "[callable(obj) for obj in (abs,str,13)]\n",
    "# abs是内置函数 str是类 13只是一个数值"
   ]
  },
  {
   "cell_type": "code",
   "execution_count": null,
   "metadata": {},
   "outputs": [],
   "source": [
    "# 用户定义的可调用类型\n",
    "\n",
    "# 要成为可调用对象，只需要实现实例方法__call__\n",
    "import random\n",
    "\n",
    "class BingoCage:\n",
    "\n",
    "    def __init__(self, items):\n",
    "        self._item = list(items)\n",
    "        random.shuffle(self._item)\n",
    "        # shuffle原地打乱列表，没有返回值\n",
    "\n",
    "    def pick(self):\n",
    "        try:\n",
    "            return self._item.pop()\n",
    "        # pop方法用于移除并返回列表的最后一个元素\n",
    "        except IndexError:\n",
    "            raise LookupError('pick from empty BingoCage')\n",
    "        # 当列表移空了，就报错\n",
    "        \n",
    "    def __call__(self):\n",
    "        return self.pick()\n",
    "    \n",
    "bingo = BingoCage(range(3))\n",
    "print(bingo.pick())\n",
    "print(bingo())  # BingoCage类实现了__call__方法，所以其对象bingo能过够使用调用运算符()\n",
    "print(bingo())\n",
    "# print(bingo())\n"
   ]
  },
  {
   "cell_type": "code",
   "execution_count": 30,
   "metadata": {},
   "outputs": [
    {
     "data": {
      "text/plain": [
       "['__annotations__',\n",
       " '__call__',\n",
       " '__class__',\n",
       " '__closure__',\n",
       " '__code__',\n",
       " '__defaults__',\n",
       " '__delattr__',\n",
       " '__dict__',\n",
       " '__dir__',\n",
       " '__doc__',\n",
       " '__eq__',\n",
       " '__format__',\n",
       " '__ge__',\n",
       " '__get__',\n",
       " '__getattribute__',\n",
       " '__globals__',\n",
       " '__gt__',\n",
       " '__hash__',\n",
       " '__init__',\n",
       " '__init_subclass__',\n",
       " '__kwdefaults__',\n",
       " '__le__',\n",
       " '__lt__',\n",
       " '__module__',\n",
       " '__name__',\n",
       " '__ne__',\n",
       " '__new__',\n",
       " '__qualname__',\n",
       " '__reduce__',\n",
       " '__reduce_ex__',\n",
       " '__repr__',\n",
       " '__setattr__',\n",
       " '__sizeof__',\n",
       " '__str__',\n",
       " '__subclasshook__']"
      ]
     },
     "execution_count": 30,
     "metadata": {},
     "output_type": "execute_result"
    }
   ],
   "source": [
    "# 函数内省\n",
    "dir(factorial)"
   ]
  },
  {
   "cell_type": "code",
   "execution_count": null,
   "metadata": {},
   "outputs": [],
   "source": []
  }
 ],
 "metadata": {
  "kernelspec": {
   "display_name": "python39",
   "language": "python",
   "name": "python3"
  },
  "language_info": {
   "codemirror_mode": {
    "name": "ipython",
    "version": 3
   },
   "file_extension": ".py",
   "mimetype": "text/x-python",
   "name": "python",
   "nbconvert_exporter": "python",
   "pygments_lexer": "ipython3",
   "version": "3.9.19"
  }
 },
 "nbformat": 4,
 "nbformat_minor": 2
}
