{
 "cells": [
  {
   "cell_type": "code",
   "execution_count": null,
   "metadata": {},
   "outputs": [],
   "source": [
    "from collections import namedtuple\n"
   ]
  },
  {
   "cell_type": "code",
   "execution_count": null,
   "metadata": {},
   "outputs": [],
   "source": [
    "Customer = namedtuple('Customer', 'name fidelity')\n"
   ]
  },
  {
   "cell_type": "code",
   "execution_count": null,
   "metadata": {},
   "outputs": [],
   "source": [
    "class LineItem:\n",
    "    \n",
    "\tdef __init__(self, product, quantity, price) -> None:\n",
    "\t\tself.product = product\n",
    "\t\tself.quantity = quantity\n",
    "\t\tself.price = price\n",
    "\n",
    "\tdef total(self):\n",
    "\t\treturn self.proce * self.quantity\n",
    "\t"
   ]
  },
  {
   "cell_type": "code",
   "execution_count": null,
   "metadata": {},
   "outputs": [],
   "source": [
    "class Order:\n",
    "    \n",
    "\tdef __init__(self, customer, cart, promotion=None):\n",
    "\t\tself.customer = customer\n",
    "\t\tself.cart = list(cart)\n",
    "\t\tself.promotion = promotion\n",
    "\tdef total(self):\n",
    "\t\tif not hasattr(self, '__total'):\n",
    "\t\t\tself.__total = sum(item.total() for item in self.cart)\n",
    "\t\treturn self.__total\n",
    "\tdef due(self):\n",
    "\t\tif self.promotion is None:\n",
    "\t\t\tdiscount = 0\n",
    "\t\telse:\n",
    "\t\t\tdiscount = self.promotion(self)\n",
    "\t\treturn self.total() - discount\n",
    "\tdef __repr__(self):\n",
    "\t\tfmt = '<Order total: {:.2f} due: {:.2f}>'\n",
    "\t\treturn fmt.format(self.total(), self.due())"
   ]
  },
  {
   "cell_type": "markdown",
   "metadata": {},
   "source": [
    "##### 使用函数实现策略"
   ]
  },
  {
   "cell_type": "code",
   "execution_count": null,
   "metadata": {},
   "outputs": [],
   "source": [
    "def fidelity_promo(order):\n",
    "\t\"\"\"为积分为1000或以上的顾客提供5%折扣\"\"\"\n",
    "\treturn order.total() * .05 if order.customer.fidelity >= 1000 else 0\n",
    "\n",
    "def bulk_item_promo(order):\n",
    "\t\"\"\"单个商品为20个或以上时提供10%折扣\"\"\"\n",
    "\tdiscount = 0\n",
    "\tfor item in order.cart:\n",
    "\t\tif item.quantity >= 20:\n",
    "\t\t\tdiscount += item.total() * .1\n",
    "\treturn discount\n",
    "\n",
    "def large_order_promo(order):\n",
    "\t\"\"\"订单中的不同商品达到10个或以上时提供7%折扣\"\"\"\n",
    "\tdistinct_items = {item.product for item in order.cart}\n",
    "\tif len(distinct_items) >= 10:\n",
    "\t\treturn order.total() * .07\n",
    "\treturn 0"
   ]
  }
 ],
 "metadata": {
  "language_info": {
   "name": "python"
  }
 },
 "nbformat": 4,
 "nbformat_minor": 2
}
